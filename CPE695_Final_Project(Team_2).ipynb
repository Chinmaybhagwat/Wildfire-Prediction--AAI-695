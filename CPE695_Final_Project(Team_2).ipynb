{
 "cells": [
  {
   "cell_type": "code",
   "execution_count": 2,
   "id": "184165b6",
   "metadata": {},
   "outputs": [],
   "source": [
    "import pandas as pd\n",
    "import numpy as np\n",
    "import matplotlib.pyplot as plt\n",
    "import sklearn\n",
    "import sklearn.ensemble as ens\n",
    "from sklearn.model_selection import train_test_split\n",
    "from sklearn.ensemble import RandomForestClassifier\n",
    "from sklearn.metrics import accuracy_score,classification_report\n"
   ]
  },
  {
   "cell_type": "code",
   "execution_count": 3,
   "id": "fef8cd97",
   "metadata": {},
   "outputs": [],
   "source": [
    "df = pd.read_csv(r'C:\\Users\\Chinmay\\Desktop\\AAI\\FinalProject- Applied ML\\wildfire-main\\wildfire-main\\data\\training\\train_data.csv')\n"
   ]
  },
  {
   "cell_type": "code",
   "execution_count": 4,
   "id": "153888b2",
   "metadata": {},
   "outputs": [
    {
     "name": "stdout",
     "output_type": "stream",
     "text": [
      "<class 'pandas.core.frame.DataFrame'>\n",
      "RangeIndex: 356000 entries, 0 to 355999\n",
      "Data columns (total 17 columns):\n",
      " #   Column            Non-Null Count   Dtype  \n",
      "---  ------            --------------   -----  \n",
      " 0   grid_id           356000 non-null  int64  \n",
      " 1   date              356000 non-null  object \n",
      " 2   eto               307569 non-null  float64\n",
      " 3   precipitation     347348 non-null  float64\n",
      " 4   solar_rad         346322 non-null  float64\n",
      " 5   aver_vapor_press  346614 non-null  float64\n",
      " 6   max_air_temp      345830 non-null  float64\n",
      " 7   min_air_temp      345666 non-null  float64\n",
      " 8   aver_air_temp     346010 non-null  float64\n",
      " 9   max_humidity      346903 non-null  float64\n",
      " 10  min_humidity      346903 non-null  float64\n",
      " 11  aver_humidity     341796 non-null  float64\n",
      " 12  dew_point         341795 non-null  float64\n",
      " 13  aver_wind_speed   347263 non-null  float64\n",
      " 14  wind_run          347185 non-null  float64\n",
      " 15  soil_temp         341369 non-null  float64\n",
      " 16  has_fire          356000 non-null  int64  \n",
      "dtypes: float64(14), int64(2), object(1)\n",
      "memory usage: 46.2+ MB\n"
     ]
    }
   ],
   "source": [
    "#dir(df)\n",
    "df.info()"
   ]
  },
  {
   "cell_type": "code",
   "execution_count": 5,
   "id": "4c859ce8",
   "metadata": {},
   "outputs": [
    {
     "data": {
      "text/html": [
       "<div>\n",
       "<style scoped>\n",
       "    .dataframe tbody tr th:only-of-type {\n",
       "        vertical-align: middle;\n",
       "    }\n",
       "\n",
       "    .dataframe tbody tr th {\n",
       "        vertical-align: top;\n",
       "    }\n",
       "\n",
       "    .dataframe thead th {\n",
       "        text-align: right;\n",
       "    }\n",
       "</style>\n",
       "<table border=\"1\" class=\"dataframe\">\n",
       "  <thead>\n",
       "    <tr style=\"text-align: right;\">\n",
       "      <th></th>\n",
       "      <th>solar_rad</th>\n",
       "      <th>aver_vapor_press</th>\n",
       "      <th>max_air_temp</th>\n",
       "      <th>aver_air_temp</th>\n",
       "      <th>max_humidity</th>\n",
       "      <th>aver_humidity</th>\n",
       "      <th>dew_point</th>\n",
       "      <th>aver_wind_speed</th>\n",
       "      <th>wind_run</th>\n",
       "      <th>soil_temp</th>\n",
       "      <th>has_fire</th>\n",
       "    </tr>\n",
       "  </thead>\n",
       "  <tbody>\n",
       "    <tr>\n",
       "      <th>0</th>\n",
       "      <td>148.0</td>\n",
       "      <td>7.9</td>\n",
       "      <td>55.5</td>\n",
       "      <td>44.1</td>\n",
       "      <td>92.0</td>\n",
       "      <td>80.0</td>\n",
       "      <td>38.5</td>\n",
       "      <td>3.2</td>\n",
       "      <td>78.2</td>\n",
       "      <td>49.1</td>\n",
       "      <td>0</td>\n",
       "    </tr>\n",
       "    <tr>\n",
       "      <th>1</th>\n",
       "      <td>269.0</td>\n",
       "      <td>7.1</td>\n",
       "      <td>58.4</td>\n",
       "      <td>42.6</td>\n",
       "      <td>93.0</td>\n",
       "      <td>76.0</td>\n",
       "      <td>35.6</td>\n",
       "      <td>3.9</td>\n",
       "      <td>93.8</td>\n",
       "      <td>48.8</td>\n",
       "      <td>0</td>\n",
       "    </tr>\n",
       "    <tr>\n",
       "      <th>2</th>\n",
       "      <td>275.0</td>\n",
       "      <td>6.9</td>\n",
       "      <td>60.4</td>\n",
       "      <td>41.7</td>\n",
       "      <td>92.0</td>\n",
       "      <td>77.0</td>\n",
       "      <td>35.0</td>\n",
       "      <td>3.2</td>\n",
       "      <td>77.1</td>\n",
       "      <td>48.2</td>\n",
       "      <td>0</td>\n",
       "    </tr>\n",
       "    <tr>\n",
       "      <th>3</th>\n",
       "      <td>268.0</td>\n",
       "      <td>7.0</td>\n",
       "      <td>65.7</td>\n",
       "      <td>43.5</td>\n",
       "      <td>93.0</td>\n",
       "      <td>73.0</td>\n",
       "      <td>35.5</td>\n",
       "      <td>2.5</td>\n",
       "      <td>61.0</td>\n",
       "      <td>47.8</td>\n",
       "      <td>0</td>\n",
       "    </tr>\n",
       "    <tr>\n",
       "      <th>4</th>\n",
       "      <td>217.0</td>\n",
       "      <td>8.8</td>\n",
       "      <td>60.1</td>\n",
       "      <td>45.0</td>\n",
       "      <td>94.0</td>\n",
       "      <td>87.0</td>\n",
       "      <td>41.2</td>\n",
       "      <td>3.3</td>\n",
       "      <td>80.4</td>\n",
       "      <td>47.7</td>\n",
       "      <td>0</td>\n",
       "    </tr>\n",
       "  </tbody>\n",
       "</table>\n",
       "</div>"
      ],
      "text/plain": [
       "   solar_rad  aver_vapor_press  max_air_temp  aver_air_temp  max_humidity  \\\n",
       "0      148.0               7.9          55.5           44.1          92.0   \n",
       "1      269.0               7.1          58.4           42.6          93.0   \n",
       "2      275.0               6.9          60.4           41.7          92.0   \n",
       "3      268.0               7.0          65.7           43.5          93.0   \n",
       "4      217.0               8.8          60.1           45.0          94.0   \n",
       "\n",
       "   aver_humidity  dew_point  aver_wind_speed  wind_run  soil_temp  has_fire  \n",
       "0           80.0       38.5              3.2      78.2       49.1         0  \n",
       "1           76.0       35.6              3.9      93.8       48.8         0  \n",
       "2           77.0       35.0              3.2      77.1       48.2         0  \n",
       "3           73.0       35.5              2.5      61.0       47.8         0  \n",
       "4           87.0       41.2              3.3      80.4       47.7         0  "
      ]
     },
     "execution_count": 5,
     "metadata": {},
     "output_type": "execute_result"
    }
   ],
   "source": [
    "df.drop(['date','grid_id','eto','min_air_temp','min_humidity','precipitation'], axis=1, inplace= True)\n",
    "df.head()"
   ]
  },
  {
   "cell_type": "code",
   "execution_count": 6,
   "id": "bfb6fa61",
   "metadata": {},
   "outputs": [],
   "source": [
    "#Filling null values with the mean value\n",
    "\n",
    "df.solar_rad.fillna(df.solar_rad.mean(), inplace = True)\n",
    "df.aver_vapor_press.fillna(df.aver_vapor_press.mean(), inplace = True)\n",
    "df.max_air_temp.fillna(df.max_air_temp.mean(), inplace = True)\n",
    "df.aver_air_temp.fillna(df.aver_air_temp.mean(), inplace = True)\n",
    "df.max_humidity.fillna(df.max_humidity.mean(), inplace = True)\n",
    "df.aver_humidity.fillna(df.aver_humidity.mean(), inplace = True)\n",
    "df.dew_point.fillna(df.dew_point.mean(), inplace = True)\n",
    "df.aver_wind_speed.fillna(df.aver_wind_speed.mean(), inplace = True)\n",
    "df.wind_run.fillna(df.wind_run.mean(), inplace = True)\n",
    "df.soil_temp.fillna(df.soil_temp.mean(), inplace = True)"
   ]
  },
  {
   "cell_type": "code",
   "execution_count": 7,
   "id": "cd7f2461",
   "metadata": {
    "scrolled": true
   },
   "outputs": [
    {
     "name": "stdout",
     "output_type": "stream",
     "text": [
      "<class 'pandas.core.frame.DataFrame'>\n",
      "RangeIndex: 356000 entries, 0 to 355999\n",
      "Data columns (total 11 columns):\n",
      " #   Column            Non-Null Count   Dtype  \n",
      "---  ------            --------------   -----  \n",
      " 0   solar_rad         356000 non-null  float64\n",
      " 1   aver_vapor_press  356000 non-null  float64\n",
      " 2   max_air_temp      356000 non-null  float64\n",
      " 3   aver_air_temp     356000 non-null  float64\n",
      " 4   max_humidity      356000 non-null  float64\n",
      " 5   aver_humidity     356000 non-null  float64\n",
      " 6   dew_point         356000 non-null  float64\n",
      " 7   aver_wind_speed   356000 non-null  float64\n",
      " 8   wind_run          356000 non-null  float64\n",
      " 9   soil_temp         356000 non-null  float64\n",
      " 10  has_fire          356000 non-null  int64  \n",
      "dtypes: float64(10), int64(1)\n",
      "memory usage: 29.9 MB\n"
     ]
    }
   ],
   "source": [
    "df.info()"
   ]
  },
  {
   "cell_type": "code",
   "execution_count": 8,
   "id": "48f40c94",
   "metadata": {},
   "outputs": [
    {
     "data": {
      "text/html": [
       "<div>\n",
       "<style scoped>\n",
       "    .dataframe tbody tr th:only-of-type {\n",
       "        vertical-align: middle;\n",
       "    }\n",
       "\n",
       "    .dataframe tbody tr th {\n",
       "        vertical-align: top;\n",
       "    }\n",
       "\n",
       "    .dataframe thead th {\n",
       "        text-align: right;\n",
       "    }\n",
       "</style>\n",
       "<table border=\"1\" class=\"dataframe\">\n",
       "  <thead>\n",
       "    <tr style=\"text-align: right;\">\n",
       "      <th></th>\n",
       "      <th>solar_rad</th>\n",
       "      <th>aver_vapor_press</th>\n",
       "      <th>max_air_temp</th>\n",
       "      <th>aver_air_temp</th>\n",
       "      <th>max_humidity</th>\n",
       "      <th>aver_humidity</th>\n",
       "      <th>dew_point</th>\n",
       "      <th>aver_wind_speed</th>\n",
       "      <th>wind_run</th>\n",
       "      <th>soil_temp</th>\n",
       "      <th>has_fire</th>\n",
       "    </tr>\n",
       "  </thead>\n",
       "  <tbody>\n",
       "    <tr>\n",
       "      <th>count</th>\n",
       "      <td>356000.000000</td>\n",
       "      <td>356000.000000</td>\n",
       "      <td>356000.000000</td>\n",
       "      <td>356000.000000</td>\n",
       "      <td>356000.000000</td>\n",
       "      <td>356000.000000</td>\n",
       "      <td>356000.000000</td>\n",
       "      <td>356000.000000</td>\n",
       "      <td>356000.000000</td>\n",
       "      <td>356000.000000</td>\n",
       "      <td>356000.000000</td>\n",
       "    </tr>\n",
       "    <tr>\n",
       "      <th>mean</th>\n",
       "      <td>448.961785</td>\n",
       "      <td>10.164375</td>\n",
       "      <td>73.898247</td>\n",
       "      <td>58.986736</td>\n",
       "      <td>78.997411</td>\n",
       "      <td>54.925472</td>\n",
       "      <td>39.855725</td>\n",
       "      <td>4.510734</td>\n",
       "      <td>108.461341</td>\n",
       "      <td>60.969322</td>\n",
       "      <td>0.005323</td>\n",
       "    </tr>\n",
       "    <tr>\n",
       "      <th>std</th>\n",
       "      <td>186.413525</td>\n",
       "      <td>165.125189</td>\n",
       "      <td>15.645449</td>\n",
       "      <td>14.087586</td>\n",
       "      <td>18.996269</td>\n",
       "      <td>22.195126</td>\n",
       "      <td>13.373778</td>\n",
       "      <td>4.036750</td>\n",
       "      <td>54.778480</td>\n",
       "      <td>11.786891</td>\n",
       "      <td>0.072765</td>\n",
       "    </tr>\n",
       "    <tr>\n",
       "      <th>min</th>\n",
       "      <td>-27.000000</td>\n",
       "      <td>0.000000</td>\n",
       "      <td>9.100000</td>\n",
       "      <td>-22.700000</td>\n",
       "      <td>0.000000</td>\n",
       "      <td>0.000000</td>\n",
       "      <td>-83.700000</td>\n",
       "      <td>-1982.577778</td>\n",
       "      <td>0.000000</td>\n",
       "      <td>28.800000</td>\n",
       "      <td>0.000000</td>\n",
       "    </tr>\n",
       "    <tr>\n",
       "      <th>25%</th>\n",
       "      <td>296.000000</td>\n",
       "      <td>5.900000</td>\n",
       "      <td>63.200000</td>\n",
       "      <td>50.266667</td>\n",
       "      <td>69.000000</td>\n",
       "      <td>36.000000</td>\n",
       "      <td>31.400000</td>\n",
       "      <td>3.050000</td>\n",
       "      <td>73.300000</td>\n",
       "      <td>52.800000</td>\n",
       "      <td>0.000000</td>\n",
       "    </tr>\n",
       "    <tr>\n",
       "      <th>50%</th>\n",
       "      <td>448.961785</td>\n",
       "      <td>9.133333</td>\n",
       "      <td>73.000000</td>\n",
       "      <td>58.800000</td>\n",
       "      <td>85.000000</td>\n",
       "      <td>54.925472</td>\n",
       "      <td>40.800000</td>\n",
       "      <td>4.000000</td>\n",
       "      <td>96.200000</td>\n",
       "      <td>60.969322</td>\n",
       "      <td>0.000000</td>\n",
       "    </tr>\n",
       "    <tr>\n",
       "      <th>75%</th>\n",
       "      <td>607.000000</td>\n",
       "      <td>12.400000</td>\n",
       "      <td>85.200000</td>\n",
       "      <td>67.800000</td>\n",
       "      <td>94.000000</td>\n",
       "      <td>74.000000</td>\n",
       "      <td>50.000000</td>\n",
       "      <td>5.300000</td>\n",
       "      <td>127.400000</td>\n",
       "      <td>69.840000</td>\n",
       "      <td>0.000000</td>\n",
       "    </tr>\n",
       "    <tr>\n",
       "      <th>max</th>\n",
       "      <td>1261.444444</td>\n",
       "      <td>47990.000000</td>\n",
       "      <td>442.600000</td>\n",
       "      <td>115.400000</td>\n",
       "      <td>100.000000</td>\n",
       "      <td>100.000000</td>\n",
       "      <td>79.275000</td>\n",
       "      <td>31.700000</td>\n",
       "      <td>760.800000</td>\n",
       "      <td>102.500000</td>\n",
       "      <td>1.000000</td>\n",
       "    </tr>\n",
       "  </tbody>\n",
       "</table>\n",
       "</div>"
      ],
      "text/plain": [
       "           solar_rad  aver_vapor_press   max_air_temp  aver_air_temp  \\\n",
       "count  356000.000000     356000.000000  356000.000000  356000.000000   \n",
       "mean      448.961785         10.164375      73.898247      58.986736   \n",
       "std       186.413525        165.125189      15.645449      14.087586   \n",
       "min       -27.000000          0.000000       9.100000     -22.700000   \n",
       "25%       296.000000          5.900000      63.200000      50.266667   \n",
       "50%       448.961785          9.133333      73.000000      58.800000   \n",
       "75%       607.000000         12.400000      85.200000      67.800000   \n",
       "max      1261.444444      47990.000000     442.600000     115.400000   \n",
       "\n",
       "        max_humidity  aver_humidity      dew_point  aver_wind_speed  \\\n",
       "count  356000.000000  356000.000000  356000.000000    356000.000000   \n",
       "mean       78.997411      54.925472      39.855725         4.510734   \n",
       "std        18.996269      22.195126      13.373778         4.036750   \n",
       "min         0.000000       0.000000     -83.700000     -1982.577778   \n",
       "25%        69.000000      36.000000      31.400000         3.050000   \n",
       "50%        85.000000      54.925472      40.800000         4.000000   \n",
       "75%        94.000000      74.000000      50.000000         5.300000   \n",
       "max       100.000000     100.000000      79.275000        31.700000   \n",
       "\n",
       "            wind_run      soil_temp       has_fire  \n",
       "count  356000.000000  356000.000000  356000.000000  \n",
       "mean      108.461341      60.969322       0.005323  \n",
       "std        54.778480      11.786891       0.072765  \n",
       "min         0.000000      28.800000       0.000000  \n",
       "25%        73.300000      52.800000       0.000000  \n",
       "50%        96.200000      60.969322       0.000000  \n",
       "75%       127.400000      69.840000       0.000000  \n",
       "max       760.800000     102.500000       1.000000  "
      ]
     },
     "execution_count": 8,
     "metadata": {},
     "output_type": "execute_result"
    }
   ],
   "source": [
    "df.describe()"
   ]
  },
  {
   "cell_type": "code",
   "execution_count": 9,
   "id": "5cb6ba5c",
   "metadata": {},
   "outputs": [],
   "source": [
    "#defining the dependent and independent data \n",
    "\n",
    "X = df[['solar_rad','aver_vapor_press','max_air_temp','aver_air_temp', \n",
    "              'max_humidity','aver_humidity','dew_point','aver_wind_speed','wind_run','soil_temp']] \n",
    "y = df['has_fire']\n"
   ]
  },
  {
   "cell_type": "code",
   "execution_count": 12,
   "id": "b45a32dc",
   "metadata": {},
   "outputs": [
    {
     "data": {
      "text/plain": [
       "0       0\n",
       "1       0\n",
       "2       0\n",
       "3       0\n",
       "4       0\n",
       "       ..\n",
       "3785    1\n",
       "3786    1\n",
       "3787    1\n",
       "3788    1\n",
       "3789    1\n",
       "Name: has_fire, Length: 3790, dtype: int64"
      ]
     },
     "execution_count": 12,
     "metadata": {},
     "output_type": "execute_result"
    }
   ],
   "source": [
    "#Under sampling the imbalanced data\n",
    "\n",
    "from imblearn.under_sampling import RandomUnderSampler\n",
    "rus = RandomUnderSampler(random_state=0)\n",
    "X_resampled, y_resampled = rus.fit_resample(X, y)\n",
    "y_resampled"
   ]
  },
  {
   "cell_type": "code",
   "execution_count": 15,
   "id": "36234a01",
   "metadata": {},
   "outputs": [],
   "source": [
    "#Splitting\n",
    "X_train, X_test, y_train, y_test = train_test_split(X_resampled, y_resampled, test_size=0.3,\n",
    "                                                        stratify=y_resampled,\n",
    "                                                        random_state=42)\n",
    "\n",
    "#Scaling\n",
    "from sklearn.preprocessing import StandardScaler\n",
    "\n",
    "scaler = StandardScaler()\n",
    "scaler.fit(X_train)\n",
    "    \n",
    "X_train = pd.DataFrame(scaler.transform(X_train), columns=X.columns)\n",
    "X_test = pd.DataFrame(scaler.transform(X_test), columns=X.columns)"
   ]
  },
  {
   "cell_type": "code",
   "execution_count": 16,
   "id": "54ab6449",
   "metadata": {},
   "outputs": [
    {
     "data": {
      "text/plain": [
       "568"
      ]
     },
     "execution_count": 16,
     "metadata": {},
     "output_type": "execute_result"
    }
   ],
   "source": [
    "len(y_test[y_test== 1])"
   ]
  },
  {
   "cell_type": "code",
   "execution_count": 17,
   "id": "136268e7",
   "metadata": {},
   "outputs": [],
   "source": [
    "#Using Random Forest model for classification\n",
    "rf_model = RandomForestClassifier(n_estimators = 500)\n",
    "\n",
    "#from imblearn.ensemble import BalancedRandomForestClassifier\n",
    "#rf_model = BalancedRandomForestClassifier(n_estimators=100,random_state=0)"
   ]
  },
  {
   "cell_type": "code",
   "execution_count": 18,
   "id": "e64fe12b",
   "metadata": {},
   "outputs": [
    {
     "data": {
      "text/html": [
       "<style>#sk-container-id-1 {color: black;background-color: white;}#sk-container-id-1 pre{padding: 0;}#sk-container-id-1 div.sk-toggleable {background-color: white;}#sk-container-id-1 label.sk-toggleable__label {cursor: pointer;display: block;width: 100%;margin-bottom: 0;padding: 0.3em;box-sizing: border-box;text-align: center;}#sk-container-id-1 label.sk-toggleable__label-arrow:before {content: \"▸\";float: left;margin-right: 0.25em;color: #696969;}#sk-container-id-1 label.sk-toggleable__label-arrow:hover:before {color: black;}#sk-container-id-1 div.sk-estimator:hover label.sk-toggleable__label-arrow:before {color: black;}#sk-container-id-1 div.sk-toggleable__content {max-height: 0;max-width: 0;overflow: hidden;text-align: left;background-color: #f0f8ff;}#sk-container-id-1 div.sk-toggleable__content pre {margin: 0.2em;color: black;border-radius: 0.25em;background-color: #f0f8ff;}#sk-container-id-1 input.sk-toggleable__control:checked~div.sk-toggleable__content {max-height: 200px;max-width: 100%;overflow: auto;}#sk-container-id-1 input.sk-toggleable__control:checked~label.sk-toggleable__label-arrow:before {content: \"▾\";}#sk-container-id-1 div.sk-estimator input.sk-toggleable__control:checked~label.sk-toggleable__label {background-color: #d4ebff;}#sk-container-id-1 div.sk-label input.sk-toggleable__control:checked~label.sk-toggleable__label {background-color: #d4ebff;}#sk-container-id-1 input.sk-hidden--visually {border: 0;clip: rect(1px 1px 1px 1px);clip: rect(1px, 1px, 1px, 1px);height: 1px;margin: -1px;overflow: hidden;padding: 0;position: absolute;width: 1px;}#sk-container-id-1 div.sk-estimator {font-family: monospace;background-color: #f0f8ff;border: 1px dotted black;border-radius: 0.25em;box-sizing: border-box;margin-bottom: 0.5em;}#sk-container-id-1 div.sk-estimator:hover {background-color: #d4ebff;}#sk-container-id-1 div.sk-parallel-item::after {content: \"\";width: 100%;border-bottom: 1px solid gray;flex-grow: 1;}#sk-container-id-1 div.sk-label:hover label.sk-toggleable__label {background-color: #d4ebff;}#sk-container-id-1 div.sk-serial::before {content: \"\";position: absolute;border-left: 1px solid gray;box-sizing: border-box;top: 0;bottom: 0;left: 50%;z-index: 0;}#sk-container-id-1 div.sk-serial {display: flex;flex-direction: column;align-items: center;background-color: white;padding-right: 0.2em;padding-left: 0.2em;position: relative;}#sk-container-id-1 div.sk-item {position: relative;z-index: 1;}#sk-container-id-1 div.sk-parallel {display: flex;align-items: stretch;justify-content: center;background-color: white;position: relative;}#sk-container-id-1 div.sk-item::before, #sk-container-id-1 div.sk-parallel-item::before {content: \"\";position: absolute;border-left: 1px solid gray;box-sizing: border-box;top: 0;bottom: 0;left: 50%;z-index: -1;}#sk-container-id-1 div.sk-parallel-item {display: flex;flex-direction: column;z-index: 1;position: relative;background-color: white;}#sk-container-id-1 div.sk-parallel-item:first-child::after {align-self: flex-end;width: 50%;}#sk-container-id-1 div.sk-parallel-item:last-child::after {align-self: flex-start;width: 50%;}#sk-container-id-1 div.sk-parallel-item:only-child::after {width: 0;}#sk-container-id-1 div.sk-dashed-wrapped {border: 1px dashed gray;margin: 0 0.4em 0.5em 0.4em;box-sizing: border-box;padding-bottom: 0.4em;background-color: white;}#sk-container-id-1 div.sk-label label {font-family: monospace;font-weight: bold;display: inline-block;line-height: 1.2em;}#sk-container-id-1 div.sk-label-container {text-align: center;}#sk-container-id-1 div.sk-container {/* jupyter's `normalize.less` sets `[hidden] { display: none; }` but bootstrap.min.css set `[hidden] { display: none !important; }` so we also need the `!important` here to be able to override the default hidden behavior on the sphinx rendered scikit-learn.org. See: https://github.com/scikit-learn/scikit-learn/issues/21755 */display: inline-block !important;position: relative;}#sk-container-id-1 div.sk-text-repr-fallback {display: none;}</style><div id=\"sk-container-id-1\" class=\"sk-top-container\"><div class=\"sk-text-repr-fallback\"><pre>RandomForestClassifier(n_estimators=500)</pre><b>In a Jupyter environment, please rerun this cell to show the HTML representation or trust the notebook. <br />On GitHub, the HTML representation is unable to render, please try loading this page with nbviewer.org.</b></div><div class=\"sk-container\" hidden><div class=\"sk-item\"><div class=\"sk-estimator sk-toggleable\"><input class=\"sk-toggleable__control sk-hidden--visually\" id=\"sk-estimator-id-1\" type=\"checkbox\" checked><label for=\"sk-estimator-id-1\" class=\"sk-toggleable__label sk-toggleable__label-arrow\">RandomForestClassifier</label><div class=\"sk-toggleable__content\"><pre>RandomForestClassifier(n_estimators=500)</pre></div></div></div></div></div>"
      ],
      "text/plain": [
       "RandomForestClassifier(n_estimators=500)"
      ]
     },
     "execution_count": 18,
     "metadata": {},
     "output_type": "execute_result"
    }
   ],
   "source": [
    "rf_model.fit(X_train, y_train)\n"
   ]
  },
  {
   "cell_type": "code",
   "execution_count": 19,
   "id": "1c280e51",
   "metadata": {},
   "outputs": [],
   "source": [
    "rf_prediction = rf_model.predict(X_test)"
   ]
  },
  {
   "cell_type": "code",
   "execution_count": 28,
   "id": "654c4765",
   "metadata": {
    "scrolled": true
   },
   "outputs": [
    {
     "name": "stdout",
     "output_type": "stream",
     "text": [
      "clasification report: \n",
      "                precision    recall  f1-score   support\n",
      "\n",
      "           0       0.78      0.78      0.78       569\n",
      "           1       0.78      0.79      0.78       568\n",
      "\n",
      "    accuracy                           0.78      1137\n",
      "   macro avg       0.78      0.78      0.78      1137\n",
      "weighted avg       0.78      0.78      0.78      1137\n",
      "\n"
     ]
    }
   ],
   "source": [
    "#Creating confusion matrix\n",
    "from sklearn.metrics import confusion_matrix\n",
    "\n",
    "cf_matrix = confusion_matrix(y_test, rf_prediction )\n",
    "print(\"clasification report: \\n \",classification_report(y_test,rf_prediction))"
   ]
  },
  {
   "cell_type": "code",
   "execution_count": 29,
   "id": "38dd30d6",
   "metadata": {},
   "outputs": [
    {
     "data": {
      "text/plain": [
       "<AxesSubplot:>"
      ]
     },
     "execution_count": 29,
     "metadata": {},
     "output_type": "execute_result"
    },
    {
     "data": {
      "image/png": "[encoded data removed]",
      "text/plain": [
       "<Figure size 640x480 with 2 Axes>"
      ]
     },
     "metadata": {},
     "output_type": "display_data"
    }
   ],
   "source": [
    "import seaborn as sns\n",
    "sns.heatmap(cf_matrix/np.sum(cf_matrix), annot=True, #Plotting confusion matrix\n",
    "            fmt='.2%', cmap='Blues')"
   ]
  },
  {
   "cell_type": "code",
   "execution_count": 30,
   "id": "45e9f394",
   "metadata": {},
   "outputs": [],
   "source": [
    "rf_has_fire_prediction = np.sum((rf_prediction == 1) & (y_test == 1))\n",
    "rf_has_fire_actual = np.count_nonzero(y_test)"
   ]
  },
  {
   "cell_type": "code",
   "execution_count": 31,
   "id": "6f7f8738",
   "metadata": {},
   "outputs": [
    {
     "name": "stdout",
     "output_type": "stream",
     "text": [
      "Has fire prediction: 78.52%\n"
     ]
    }
   ],
   "source": [
    "rf_has_fire_accuracy = rf_has_fire_prediction / rf_has_fire_actual\n",
    "print(f'Has fire prediction: {rf_has_fire_accuracy:.2%}')"
   ]
  },
  {
   "cell_type": "code",
   "execution_count": 32,
   "id": "9c78fe59",
   "metadata": {},
   "outputs": [],
   "source": [
    "rf_no_fire_prediction = np.sum((rf_prediction == 0) & (y_test == 0))\n",
    "rf_no_fire_actual = len(y_test) - np.count_nonzero(y_test)"
   ]
  },
  {
   "cell_type": "code",
   "execution_count": 33,
   "id": "66f31424",
   "metadata": {},
   "outputs": [
    {
     "name": "stdout",
     "output_type": "stream",
     "text": [
      "No fire prediction: 77.68%\n"
     ]
    }
   ],
   "source": [
    "rf_no_fire_accuracy = rf_no_fire_prediction / rf_no_fire_actual\n",
    "print(f'No fire prediction: {rf_no_fire_accuracy:.2%}')"
   ]
  },
  {
   "cell_type": "code",
   "execution_count": 34,
   "id": "759d2c29",
   "metadata": {},
   "outputs": [],
   "source": [
    "#specifying the parameters for hyper tuning\n",
    "param_grid = {\n",
    "    'bootstrap': [True],\n",
    "    'max_depth': [80, 90, 100, 110],\n",
    "    'max_features': [2, 3],\n",
    "    'min_samples_leaf': [3, 4, 5],\n",
    "    'min_samples_split': [8, 10, 12],\n",
    "    'n_estimators': [100, 200, 300, 1000]\n",
    "}"
   ]
  },
  {
   "cell_type": "code",
   "execution_count": 55,
   "id": "ae327180",
   "metadata": {},
   "outputs": [],
   "source": [
    "#Hyper tuning the model using GridSearchCV\n",
    "from sklearn.model_selection import GridSearchCV\n",
    "\n",
    "rf_model_CV = RandomForestClassifier()\n",
    "grid_search = GridSearchCV(rf_model_CV, param_grid, \n",
    "                           return_train_score = True, n_jobs = 4) \n",
    "\n",
    "grid_search.fit(X_train, y_train)\n",
    "\n",
    "grid_search.best_params_\n",
    "\n",
    "best_grid = grid_search.best_estimator_\n"
   ]
  },
  {
   "cell_type": "code",
   "execution_count": 58,
   "id": "6ece282c",
   "metadata": {},
   "outputs": [],
   "source": [
    "grid_accuracy = grid_search.score(X_test, y_test)"
   ]
  },
  {
   "cell_type": "code",
   "execution_count": 59,
   "id": "aca59b76",
   "metadata": {},
   "outputs": [
    {
     "name": "stdout",
     "output_type": "stream",
     "text": [
      "Final result: 90.54%\n"
     ]
    }
   ],
   "source": [
    "print(f'Final result: {grid_accuracy:.2%}')"
   ]
  },
  {
   "cell_type": "code",
   "execution_count": 63,
   "id": "365fe207",
   "metadata": {},
   "outputs": [],
   "source": [
    "y_pred = grid_search.predict(X_test)\n"
   ]
  },
  {
   "cell_type": "code",
   "execution_count": 64,
   "id": "5730b312",
   "metadata": {},
   "outputs": [
    {
     "data": {
      "text/plain": [
       "array([[1164,  162],\n",
       "       [  89, 1238]], dtype=int64)"
      ]
     },
     "execution_count": 64,
     "metadata": {},
     "output_type": "execute_result"
    }
   ],
   "source": [
    "cf_matrix_gs = confusion_matrix(y_test, y_pred )\n",
    "cf_matrix_gs"
   ]
  },
  {
   "cell_type": "code",
   "execution_count": 65,
   "id": "73694463",
   "metadata": {},
   "outputs": [
    {
     "data": {
      "text/plain": [
       "<AxesSubplot:>"
      ]
     },
     "execution_count": 65,
     "metadata": {},
     "output_type": "execute_result"
    },
    {
     "data": {
      "image/png": "[encoded data removed]",
      "text/plain": [
       "<Figure size 640x480 with 2 Axes>"
      ]
     },
     "metadata": {},
     "output_type": "display_data"
    }
   ],
   "source": [
    "sns.heatmap(cf_matrix_gs/np.sum(cf_matrix_gs), annot=True, #Plotting confusion matrix\n",
    "            fmt='.2%', cmap='Blues')"
   ]
  },
  {
   "cell_type": "code",
   "execution_count": null,
   "id": "bdff2f5a",
   "metadata": {},
   "outputs": [],
   "source": []
  }
 ],
 "metadata": {
  "kernelspec": {
   "display_name": "Python 3 (ipykernel)",
   "language": "python",
   "name": "python3"
  },
  "language_info": {
   "codemirror_mode": {
    "name": "ipython",
    "version": 3
   },
   "file_extension": ".py",
   "mimetype": "text/x-python",
   "name": "python",
   "nbconvert_exporter": "python",
   "pygments_lexer": "ipython3",
   "version": "3.9.12"
  }
 },
 "nbformat": 4,
 "nbformat_minor": 5
}
